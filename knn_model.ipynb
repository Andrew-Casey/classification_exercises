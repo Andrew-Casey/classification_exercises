{
 "cells": [
  {
   "cell_type": "code",
   "execution_count": 1,
   "id": "d2e2821b",
   "metadata": {},
   "outputs": [],
   "source": [
    "import pandas as pd\n",
    "import numpy as np\n",
    "\n",
    "import matplotlib.pyplot as plt\n",
    "import seaborn as sns\n",
    "\n",
    "from sklearn.metrics import classification_report, confusion_matrix,  plot_confusion_matrix\n",
    "from sklearn.ensemble import RandomForestClassifier\n",
    "from sklearn.neighbors import KNeighborsClassifier\n",
    "\n",
    "import acquire\n",
    "import prepare as prep\n",
    "import knear\n",
    "import model as mod\n",
    "import model1 as mod1\n",
    "# ignore warnings\n",
    "import warnings\n",
    "warnings.filterwarnings(\"ignore\")\n",
    "\n"
   ]
  },
  {
   "cell_type": "code",
   "execution_count": 2,
   "id": "8ae68134",
   "metadata": {},
   "outputs": [
    {
     "name": "stdout",
     "output_type": "stream",
     "text": [
      "csv file found and loaded\n"
     ]
    },
    {
     "data": {
      "text/html": [
       "<div>\n",
       "<style scoped>\n",
       "    .dataframe tbody tr th:only-of-type {\n",
       "        vertical-align: middle;\n",
       "    }\n",
       "\n",
       "    .dataframe tbody tr th {\n",
       "        vertical-align: top;\n",
       "    }\n",
       "\n",
       "    .dataframe thead th {\n",
       "        text-align: right;\n",
       "    }\n",
       "</style>\n",
       "<table border=\"1\" class=\"dataframe\">\n",
       "  <thead>\n",
       "    <tr style=\"text-align: right;\">\n",
       "      <th></th>\n",
       "      <th>passenger_id</th>\n",
       "      <th>survived</th>\n",
       "      <th>pclass</th>\n",
       "      <th>sex</th>\n",
       "      <th>sibsp</th>\n",
       "      <th>parch</th>\n",
       "      <th>fare</th>\n",
       "      <th>embarked</th>\n",
       "      <th>alone</th>\n",
       "      <th>sex_male</th>\n",
       "      <th>embarked_Q</th>\n",
       "      <th>embarked_S</th>\n",
       "    </tr>\n",
       "  </thead>\n",
       "  <tbody>\n",
       "    <tr>\n",
       "      <th>0</th>\n",
       "      <td>0</td>\n",
       "      <td>0</td>\n",
       "      <td>3</td>\n",
       "      <td>male</td>\n",
       "      <td>1</td>\n",
       "      <td>0</td>\n",
       "      <td>7.2500</td>\n",
       "      <td>S</td>\n",
       "      <td>0</td>\n",
       "      <td>1</td>\n",
       "      <td>0</td>\n",
       "      <td>1</td>\n",
       "    </tr>\n",
       "    <tr>\n",
       "      <th>1</th>\n",
       "      <td>1</td>\n",
       "      <td>1</td>\n",
       "      <td>1</td>\n",
       "      <td>female</td>\n",
       "      <td>1</td>\n",
       "      <td>0</td>\n",
       "      <td>71.2833</td>\n",
       "      <td>C</td>\n",
       "      <td>0</td>\n",
       "      <td>0</td>\n",
       "      <td>0</td>\n",
       "      <td>0</td>\n",
       "    </tr>\n",
       "    <tr>\n",
       "      <th>2</th>\n",
       "      <td>2</td>\n",
       "      <td>1</td>\n",
       "      <td>3</td>\n",
       "      <td>female</td>\n",
       "      <td>0</td>\n",
       "      <td>0</td>\n",
       "      <td>7.9250</td>\n",
       "      <td>S</td>\n",
       "      <td>1</td>\n",
       "      <td>0</td>\n",
       "      <td>0</td>\n",
       "      <td>1</td>\n",
       "    </tr>\n",
       "    <tr>\n",
       "      <th>3</th>\n",
       "      <td>3</td>\n",
       "      <td>1</td>\n",
       "      <td>1</td>\n",
       "      <td>female</td>\n",
       "      <td>1</td>\n",
       "      <td>0</td>\n",
       "      <td>53.1000</td>\n",
       "      <td>S</td>\n",
       "      <td>0</td>\n",
       "      <td>0</td>\n",
       "      <td>0</td>\n",
       "      <td>1</td>\n",
       "    </tr>\n",
       "    <tr>\n",
       "      <th>4</th>\n",
       "      <td>4</td>\n",
       "      <td>0</td>\n",
       "      <td>3</td>\n",
       "      <td>male</td>\n",
       "      <td>0</td>\n",
       "      <td>0</td>\n",
       "      <td>8.0500</td>\n",
       "      <td>S</td>\n",
       "      <td>1</td>\n",
       "      <td>1</td>\n",
       "      <td>0</td>\n",
       "      <td>1</td>\n",
       "    </tr>\n",
       "    <tr>\n",
       "      <th>...</th>\n",
       "      <td>...</td>\n",
       "      <td>...</td>\n",
       "      <td>...</td>\n",
       "      <td>...</td>\n",
       "      <td>...</td>\n",
       "      <td>...</td>\n",
       "      <td>...</td>\n",
       "      <td>...</td>\n",
       "      <td>...</td>\n",
       "      <td>...</td>\n",
       "      <td>...</td>\n",
       "      <td>...</td>\n",
       "    </tr>\n",
       "    <tr>\n",
       "      <th>886</th>\n",
       "      <td>886</td>\n",
       "      <td>0</td>\n",
       "      <td>2</td>\n",
       "      <td>male</td>\n",
       "      <td>0</td>\n",
       "      <td>0</td>\n",
       "      <td>13.0000</td>\n",
       "      <td>S</td>\n",
       "      <td>1</td>\n",
       "      <td>1</td>\n",
       "      <td>0</td>\n",
       "      <td>1</td>\n",
       "    </tr>\n",
       "    <tr>\n",
       "      <th>887</th>\n",
       "      <td>887</td>\n",
       "      <td>1</td>\n",
       "      <td>1</td>\n",
       "      <td>female</td>\n",
       "      <td>0</td>\n",
       "      <td>0</td>\n",
       "      <td>30.0000</td>\n",
       "      <td>S</td>\n",
       "      <td>1</td>\n",
       "      <td>0</td>\n",
       "      <td>0</td>\n",
       "      <td>1</td>\n",
       "    </tr>\n",
       "    <tr>\n",
       "      <th>888</th>\n",
       "      <td>888</td>\n",
       "      <td>0</td>\n",
       "      <td>3</td>\n",
       "      <td>female</td>\n",
       "      <td>1</td>\n",
       "      <td>2</td>\n",
       "      <td>23.4500</td>\n",
       "      <td>S</td>\n",
       "      <td>0</td>\n",
       "      <td>0</td>\n",
       "      <td>0</td>\n",
       "      <td>1</td>\n",
       "    </tr>\n",
       "    <tr>\n",
       "      <th>889</th>\n",
       "      <td>889</td>\n",
       "      <td>1</td>\n",
       "      <td>1</td>\n",
       "      <td>male</td>\n",
       "      <td>0</td>\n",
       "      <td>0</td>\n",
       "      <td>30.0000</td>\n",
       "      <td>C</td>\n",
       "      <td>1</td>\n",
       "      <td>1</td>\n",
       "      <td>0</td>\n",
       "      <td>0</td>\n",
       "    </tr>\n",
       "    <tr>\n",
       "      <th>890</th>\n",
       "      <td>890</td>\n",
       "      <td>0</td>\n",
       "      <td>3</td>\n",
       "      <td>male</td>\n",
       "      <td>0</td>\n",
       "      <td>0</td>\n",
       "      <td>7.7500</td>\n",
       "      <td>Q</td>\n",
       "      <td>1</td>\n",
       "      <td>1</td>\n",
       "      <td>1</td>\n",
       "      <td>0</td>\n",
       "    </tr>\n",
       "  </tbody>\n",
       "</table>\n",
       "<p>891 rows × 12 columns</p>\n",
       "</div>"
      ],
      "text/plain": [
       "     passenger_id  survived  pclass     sex  sibsp  parch     fare embarked  \\\n",
       "0               0         0       3    male      1      0   7.2500        S   \n",
       "1               1         1       1  female      1      0  71.2833        C   \n",
       "2               2         1       3  female      0      0   7.9250        S   \n",
       "3               3         1       1  female      1      0  53.1000        S   \n",
       "4               4         0       3    male      0      0   8.0500        S   \n",
       "..            ...       ...     ...     ...    ...    ...      ...      ...   \n",
       "886           886         0       2    male      0      0  13.0000        S   \n",
       "887           887         1       1  female      0      0  30.0000        S   \n",
       "888           888         0       3  female      1      2  23.4500        S   \n",
       "889           889         1       1    male      0      0  30.0000        C   \n",
       "890           890         0       3    male      0      0   7.7500        Q   \n",
       "\n",
       "     alone  sex_male  embarked_Q  embarked_S  \n",
       "0        0         1           0           1  \n",
       "1        0         0           0           0  \n",
       "2        1         0           0           1  \n",
       "3        0         0           0           1  \n",
       "4        1         1           0           1  \n",
       "..     ...       ...         ...         ...  \n",
       "886      1         1           0           1  \n",
       "887      1         0           0           1  \n",
       "888      0         0           0           1  \n",
       "889      1         1           0           0  \n",
       "890      1         1           1           0  \n",
       "\n",
       "[891 rows x 12 columns]"
      ]
     },
     "execution_count": 2,
     "metadata": {},
     "output_type": "execute_result"
    }
   ],
   "source": [
    "titanic = prep.prep_titanic()\n",
    "titanic"
   ]
  },
  {
   "cell_type": "code",
   "execution_count": 3,
   "id": "0e27a2a5",
   "metadata": {},
   "outputs": [
    {
     "data": {
      "text/plain": [
       "(     passenger_id  survived  pclass     sex  sibsp  parch      fare embarked  \\\n",
       " 455           455         1       3    male      0      0    7.8958        C   \n",
       " 380           380         1       1  female      0      0  227.5250        C   \n",
       " 492           492         0       1    male      0      0   30.5000        S   \n",
       " 55             55         1       1    male      0      0   35.5000        S   \n",
       " 243           243         0       3    male      0      0    7.1250        S   \n",
       " ..            ...       ...     ...     ...    ...    ...       ...      ...   \n",
       " 695           695         0       2    male      0      0   13.5000        S   \n",
       " 128           128         1       3  female      1      1   22.3583        C   \n",
       " 636           636         0       3    male      0      0    7.9250        S   \n",
       " 222           222         0       3    male      0      0    8.0500        S   \n",
       " 496           496         1       1  female      1      0   78.2667        C   \n",
       " \n",
       "      alone  sex_male  embarked_Q  embarked_S  \n",
       " 455      1         1           0           0  \n",
       " 380      1         0           0           0  \n",
       " 492      1         1           0           1  \n",
       " 55       1         1           0           1  \n",
       " 243      1         1           0           1  \n",
       " ..     ...       ...         ...         ...  \n",
       " 695      1         1           0           1  \n",
       " 128      0         0           0           0  \n",
       " 636      1         1           0           1  \n",
       " 222      1         1           0           1  \n",
       " 496      0         0           0           0  \n",
       " \n",
       " [534 rows x 12 columns],\n",
       "      passenger_id  survived  pclass     sex  sibsp  parch     fare embarked  \\\n",
       " 176           176         0       3    male      3      1  25.4667        S   \n",
       " 372           372         0       3    male      0      0   8.0500        S   \n",
       " 678           678         0       3  female      1      6  46.9000        S   \n",
       " 778           778         0       3    male      0      0   7.7375        Q   \n",
       " 463           463         0       2    male      0      0  13.0000        S   \n",
       " ..            ...       ...     ...     ...    ...    ...      ...      ...   \n",
       " 622           622         1       3    male      1      1  15.7417        C   \n",
       " 302           302         0       3    male      0      0   0.0000        S   \n",
       " 518           518         1       2  female      1      0  26.0000        S   \n",
       " 765           765         1       1  female      1      0  77.9583        S   \n",
       " 837           837         0       3    male      0      0   8.0500        S   \n",
       " \n",
       "      alone  sex_male  embarked_Q  embarked_S  \n",
       " 176      0         1           0           1  \n",
       " 372      1         1           0           1  \n",
       " 678      0         0           0           1  \n",
       " 778      1         1           1           0  \n",
       " 463      1         1           0           1  \n",
       " ..     ...       ...         ...         ...  \n",
       " 622      0         1           0           0  \n",
       " 302      1         1           0           1  \n",
       " 518      0         0           0           1  \n",
       " 765      0         0           0           1  \n",
       " 837      1         1           0           1  \n",
       " \n",
       " [178 rows x 12 columns],\n",
       "      passenger_id  survived  pclass     sex  sibsp  parch      fare embarked  \\\n",
       " 561           561         0       3    male      0      0    7.8958        S   \n",
       " 641           641         1       1  female      0      0   69.3000        C   \n",
       " 400           400         1       3    male      0      0    7.9250        S   \n",
       " 498           498         0       1  female      1      2  151.5500        S   \n",
       " 875           875         1       3  female      0      0    7.2250        C   \n",
       " ..            ...       ...     ...     ...    ...    ...       ...      ...   \n",
       " 339           339         0       1    male      0      0   35.5000        S   \n",
       " 841           841         0       2    male      0      0   10.5000        S   \n",
       " 442           442         0       3    male      1      0    7.7750        S   \n",
       " 815           815         0       1    male      0      0    0.0000        S   \n",
       " 53             53         1       2  female      1      0   26.0000        S   \n",
       " \n",
       "      alone  sex_male  embarked_Q  embarked_S  \n",
       " 561      1         1           0           1  \n",
       " 641      1         0           0           0  \n",
       " 400      1         1           0           1  \n",
       " 498      0         0           0           1  \n",
       " 875      1         0           0           0  \n",
       " ..     ...       ...         ...         ...  \n",
       " 339      1         1           0           1  \n",
       " 841      1         1           0           1  \n",
       " 442      0         1           0           1  \n",
       " 815      1         1           0           1  \n",
       " 53       0         0           0           1  \n",
       " \n",
       " [179 rows x 12 columns])"
      ]
     },
     "execution_count": 3,
     "metadata": {},
     "output_type": "execute_result"
    }
   ],
   "source": [
    "df = prep.split_data(titanic, 'survived')\n",
    "df"
   ]
  },
  {
   "cell_type": "code",
   "execution_count": 4,
   "id": "40dff2d9",
   "metadata": {},
   "outputs": [
    {
     "data": {
      "text/html": [
       "<div>\n",
       "<style scoped>\n",
       "    .dataframe tbody tr th:only-of-type {\n",
       "        vertical-align: middle;\n",
       "    }\n",
       "\n",
       "    .dataframe tbody tr th {\n",
       "        vertical-align: top;\n",
       "    }\n",
       "\n",
       "    .dataframe thead th {\n",
       "        text-align: right;\n",
       "    }\n",
       "</style>\n",
       "<table border=\"1\" class=\"dataframe\">\n",
       "  <thead>\n",
       "    <tr style=\"text-align: right;\">\n",
       "      <th></th>\n",
       "      <th>passenger_id</th>\n",
       "      <th>survived</th>\n",
       "      <th>pclass</th>\n",
       "      <th>sex</th>\n",
       "      <th>sibsp</th>\n",
       "      <th>parch</th>\n",
       "      <th>fare</th>\n",
       "      <th>embarked</th>\n",
       "      <th>alone</th>\n",
       "      <th>sex_male</th>\n",
       "      <th>embarked_Q</th>\n",
       "      <th>embarked_S</th>\n",
       "    </tr>\n",
       "  </thead>\n",
       "  <tbody>\n",
       "    <tr>\n",
       "      <th>455</th>\n",
       "      <td>455</td>\n",
       "      <td>1</td>\n",
       "      <td>3</td>\n",
       "      <td>male</td>\n",
       "      <td>0</td>\n",
       "      <td>0</td>\n",
       "      <td>7.8958</td>\n",
       "      <td>C</td>\n",
       "      <td>1</td>\n",
       "      <td>1</td>\n",
       "      <td>0</td>\n",
       "      <td>0</td>\n",
       "    </tr>\n",
       "    <tr>\n",
       "      <th>380</th>\n",
       "      <td>380</td>\n",
       "      <td>1</td>\n",
       "      <td>1</td>\n",
       "      <td>female</td>\n",
       "      <td>0</td>\n",
       "      <td>0</td>\n",
       "      <td>227.5250</td>\n",
       "      <td>C</td>\n",
       "      <td>1</td>\n",
       "      <td>0</td>\n",
       "      <td>0</td>\n",
       "      <td>0</td>\n",
       "    </tr>\n",
       "    <tr>\n",
       "      <th>492</th>\n",
       "      <td>492</td>\n",
       "      <td>0</td>\n",
       "      <td>1</td>\n",
       "      <td>male</td>\n",
       "      <td>0</td>\n",
       "      <td>0</td>\n",
       "      <td>30.5000</td>\n",
       "      <td>S</td>\n",
       "      <td>1</td>\n",
       "      <td>1</td>\n",
       "      <td>0</td>\n",
       "      <td>1</td>\n",
       "    </tr>\n",
       "    <tr>\n",
       "      <th>55</th>\n",
       "      <td>55</td>\n",
       "      <td>1</td>\n",
       "      <td>1</td>\n",
       "      <td>male</td>\n",
       "      <td>0</td>\n",
       "      <td>0</td>\n",
       "      <td>35.5000</td>\n",
       "      <td>S</td>\n",
       "      <td>1</td>\n",
       "      <td>1</td>\n",
       "      <td>0</td>\n",
       "      <td>1</td>\n",
       "    </tr>\n",
       "    <tr>\n",
       "      <th>243</th>\n",
       "      <td>243</td>\n",
       "      <td>0</td>\n",
       "      <td>3</td>\n",
       "      <td>male</td>\n",
       "      <td>0</td>\n",
       "      <td>0</td>\n",
       "      <td>7.1250</td>\n",
       "      <td>S</td>\n",
       "      <td>1</td>\n",
       "      <td>1</td>\n",
       "      <td>0</td>\n",
       "      <td>1</td>\n",
       "    </tr>\n",
       "    <tr>\n",
       "      <th>...</th>\n",
       "      <td>...</td>\n",
       "      <td>...</td>\n",
       "      <td>...</td>\n",
       "      <td>...</td>\n",
       "      <td>...</td>\n",
       "      <td>...</td>\n",
       "      <td>...</td>\n",
       "      <td>...</td>\n",
       "      <td>...</td>\n",
       "      <td>...</td>\n",
       "      <td>...</td>\n",
       "      <td>...</td>\n",
       "    </tr>\n",
       "    <tr>\n",
       "      <th>695</th>\n",
       "      <td>695</td>\n",
       "      <td>0</td>\n",
       "      <td>2</td>\n",
       "      <td>male</td>\n",
       "      <td>0</td>\n",
       "      <td>0</td>\n",
       "      <td>13.5000</td>\n",
       "      <td>S</td>\n",
       "      <td>1</td>\n",
       "      <td>1</td>\n",
       "      <td>0</td>\n",
       "      <td>1</td>\n",
       "    </tr>\n",
       "    <tr>\n",
       "      <th>128</th>\n",
       "      <td>128</td>\n",
       "      <td>1</td>\n",
       "      <td>3</td>\n",
       "      <td>female</td>\n",
       "      <td>1</td>\n",
       "      <td>1</td>\n",
       "      <td>22.3583</td>\n",
       "      <td>C</td>\n",
       "      <td>0</td>\n",
       "      <td>0</td>\n",
       "      <td>0</td>\n",
       "      <td>0</td>\n",
       "    </tr>\n",
       "    <tr>\n",
       "      <th>636</th>\n",
       "      <td>636</td>\n",
       "      <td>0</td>\n",
       "      <td>3</td>\n",
       "      <td>male</td>\n",
       "      <td>0</td>\n",
       "      <td>0</td>\n",
       "      <td>7.9250</td>\n",
       "      <td>S</td>\n",
       "      <td>1</td>\n",
       "      <td>1</td>\n",
       "      <td>0</td>\n",
       "      <td>1</td>\n",
       "    </tr>\n",
       "    <tr>\n",
       "      <th>222</th>\n",
       "      <td>222</td>\n",
       "      <td>0</td>\n",
       "      <td>3</td>\n",
       "      <td>male</td>\n",
       "      <td>0</td>\n",
       "      <td>0</td>\n",
       "      <td>8.0500</td>\n",
       "      <td>S</td>\n",
       "      <td>1</td>\n",
       "      <td>1</td>\n",
       "      <td>0</td>\n",
       "      <td>1</td>\n",
       "    </tr>\n",
       "    <tr>\n",
       "      <th>496</th>\n",
       "      <td>496</td>\n",
       "      <td>1</td>\n",
       "      <td>1</td>\n",
       "      <td>female</td>\n",
       "      <td>1</td>\n",
       "      <td>0</td>\n",
       "      <td>78.2667</td>\n",
       "      <td>C</td>\n",
       "      <td>0</td>\n",
       "      <td>0</td>\n",
       "      <td>0</td>\n",
       "      <td>0</td>\n",
       "    </tr>\n",
       "  </tbody>\n",
       "</table>\n",
       "<p>534 rows × 12 columns</p>\n",
       "</div>"
      ],
      "text/plain": [
       "     passenger_id  survived  pclass     sex  sibsp  parch      fare embarked  \\\n",
       "455           455         1       3    male      0      0    7.8958        C   \n",
       "380           380         1       1  female      0      0  227.5250        C   \n",
       "492           492         0       1    male      0      0   30.5000        S   \n",
       "55             55         1       1    male      0      0   35.5000        S   \n",
       "243           243         0       3    male      0      0    7.1250        S   \n",
       "..            ...       ...     ...     ...    ...    ...       ...      ...   \n",
       "695           695         0       2    male      0      0   13.5000        S   \n",
       "128           128         1       3  female      1      1   22.3583        C   \n",
       "636           636         0       3    male      0      0    7.9250        S   \n",
       "222           222         0       3    male      0      0    8.0500        S   \n",
       "496           496         1       1  female      1      0   78.2667        C   \n",
       "\n",
       "     alone  sex_male  embarked_Q  embarked_S  \n",
       "455      1         1           0           0  \n",
       "380      1         0           0           0  \n",
       "492      1         1           0           1  \n",
       "55       1         1           0           1  \n",
       "243      1         1           0           1  \n",
       "..     ...       ...         ...         ...  \n",
       "695      1         1           0           1  \n",
       "128      0         0           0           0  \n",
       "636      1         1           0           1  \n",
       "222      1         1           0           1  \n",
       "496      0         0           0           0  \n",
       "\n",
       "[534 rows x 12 columns]"
      ]
     },
     "execution_count": 4,
     "metadata": {},
     "output_type": "execute_result"
    }
   ],
   "source": [
    "train,validate,test = df\n",
    "train"
   ]
  },
  {
   "cell_type": "code",
   "execution_count": 5,
   "id": "1a0daefc",
   "metadata": {},
   "outputs": [],
   "source": [
    "train = train.drop(columns=['sex'])\n",
    "validate = validate.drop(columns=['sex'])\n",
    "test = test.drop(columns=['sex'])\n"
   ]
  },
  {
   "cell_type": "code",
   "execution_count": 6,
   "id": "c28c5cf8",
   "metadata": {},
   "outputs": [],
   "source": [
    "train = train.drop(columns=['embarked'])\n",
    "validate = validate.drop(columns=['embarked'])\n",
    "test = test.drop(columns=['embarked'])"
   ]
  },
  {
   "cell_type": "code",
   "execution_count": 7,
   "id": "c8aeee3d",
   "metadata": {},
   "outputs": [],
   "source": [
    "train = train.drop(columns=['embarked_Q'])\n",
    "validate = validate.drop(columns=['embarked_Q'])\n",
    "test = test.drop(columns=['embarked_Q'])\n"
   ]
  },
  {
   "cell_type": "code",
   "execution_count": 8,
   "id": "98d69c64",
   "metadata": {},
   "outputs": [],
   "source": [
    "train = train.drop(columns=['embarked_S'])\n",
    "validate = validate.drop(columns=['embarked_S'])\n",
    "test = test.drop(columns=['embarked_S'])"
   ]
  },
  {
   "cell_type": "code",
   "execution_count": 9,
   "id": "3e3d9b02",
   "metadata": {},
   "outputs": [],
   "source": [
    "train = train.drop(columns=['parch'])\n",
    "validate = validate.drop(columns=['parch'])\n",
    "test = test.drop(columns=['parch'])"
   ]
  },
  {
   "cell_type": "code",
   "execution_count": 10,
   "id": "7b4862ea",
   "metadata": {},
   "outputs": [],
   "source": [
    "train = train.drop(columns=['sibsp'])\n",
    "validate = validate.drop(columns=['sibsp'])\n",
    "test = test.drop(columns=['sibsp'])"
   ]
  },
  {
   "cell_type": "code",
   "execution_count": 11,
   "id": "0f851942",
   "metadata": {},
   "outputs": [
    {
     "data": {
      "text/html": [
       "<div>\n",
       "<style scoped>\n",
       "    .dataframe tbody tr th:only-of-type {\n",
       "        vertical-align: middle;\n",
       "    }\n",
       "\n",
       "    .dataframe tbody tr th {\n",
       "        vertical-align: top;\n",
       "    }\n",
       "\n",
       "    .dataframe thead th {\n",
       "        text-align: right;\n",
       "    }\n",
       "</style>\n",
       "<table border=\"1\" class=\"dataframe\">\n",
       "  <thead>\n",
       "    <tr style=\"text-align: right;\">\n",
       "      <th></th>\n",
       "      <th>passenger_id</th>\n",
       "      <th>survived</th>\n",
       "      <th>pclass</th>\n",
       "      <th>fare</th>\n",
       "      <th>alone</th>\n",
       "      <th>sex_male</th>\n",
       "    </tr>\n",
       "  </thead>\n",
       "  <tbody>\n",
       "    <tr>\n",
       "      <th>455</th>\n",
       "      <td>455</td>\n",
       "      <td>1</td>\n",
       "      <td>3</td>\n",
       "      <td>7.8958</td>\n",
       "      <td>1</td>\n",
       "      <td>1</td>\n",
       "    </tr>\n",
       "    <tr>\n",
       "      <th>380</th>\n",
       "      <td>380</td>\n",
       "      <td>1</td>\n",
       "      <td>1</td>\n",
       "      <td>227.5250</td>\n",
       "      <td>1</td>\n",
       "      <td>0</td>\n",
       "    </tr>\n",
       "    <tr>\n",
       "      <th>492</th>\n",
       "      <td>492</td>\n",
       "      <td>0</td>\n",
       "      <td>1</td>\n",
       "      <td>30.5000</td>\n",
       "      <td>1</td>\n",
       "      <td>1</td>\n",
       "    </tr>\n",
       "    <tr>\n",
       "      <th>55</th>\n",
       "      <td>55</td>\n",
       "      <td>1</td>\n",
       "      <td>1</td>\n",
       "      <td>35.5000</td>\n",
       "      <td>1</td>\n",
       "      <td>1</td>\n",
       "    </tr>\n",
       "    <tr>\n",
       "      <th>243</th>\n",
       "      <td>243</td>\n",
       "      <td>0</td>\n",
       "      <td>3</td>\n",
       "      <td>7.1250</td>\n",
       "      <td>1</td>\n",
       "      <td>1</td>\n",
       "    </tr>\n",
       "    <tr>\n",
       "      <th>...</th>\n",
       "      <td>...</td>\n",
       "      <td>...</td>\n",
       "      <td>...</td>\n",
       "      <td>...</td>\n",
       "      <td>...</td>\n",
       "      <td>...</td>\n",
       "    </tr>\n",
       "    <tr>\n",
       "      <th>695</th>\n",
       "      <td>695</td>\n",
       "      <td>0</td>\n",
       "      <td>2</td>\n",
       "      <td>13.5000</td>\n",
       "      <td>1</td>\n",
       "      <td>1</td>\n",
       "    </tr>\n",
       "    <tr>\n",
       "      <th>128</th>\n",
       "      <td>128</td>\n",
       "      <td>1</td>\n",
       "      <td>3</td>\n",
       "      <td>22.3583</td>\n",
       "      <td>0</td>\n",
       "      <td>0</td>\n",
       "    </tr>\n",
       "    <tr>\n",
       "      <th>636</th>\n",
       "      <td>636</td>\n",
       "      <td>0</td>\n",
       "      <td>3</td>\n",
       "      <td>7.9250</td>\n",
       "      <td>1</td>\n",
       "      <td>1</td>\n",
       "    </tr>\n",
       "    <tr>\n",
       "      <th>222</th>\n",
       "      <td>222</td>\n",
       "      <td>0</td>\n",
       "      <td>3</td>\n",
       "      <td>8.0500</td>\n",
       "      <td>1</td>\n",
       "      <td>1</td>\n",
       "    </tr>\n",
       "    <tr>\n",
       "      <th>496</th>\n",
       "      <td>496</td>\n",
       "      <td>1</td>\n",
       "      <td>1</td>\n",
       "      <td>78.2667</td>\n",
       "      <td>0</td>\n",
       "      <td>0</td>\n",
       "    </tr>\n",
       "  </tbody>\n",
       "</table>\n",
       "<p>534 rows × 6 columns</p>\n",
       "</div>"
      ],
      "text/plain": [
       "     passenger_id  survived  pclass      fare  alone  sex_male\n",
       "455           455         1       3    7.8958      1         1\n",
       "380           380         1       1  227.5250      1         0\n",
       "492           492         0       1   30.5000      1         1\n",
       "55             55         1       1   35.5000      1         1\n",
       "243           243         0       3    7.1250      1         1\n",
       "..            ...       ...     ...       ...    ...       ...\n",
       "695           695         0       2   13.5000      1         1\n",
       "128           128         1       3   22.3583      0         0\n",
       "636           636         0       3    7.9250      1         1\n",
       "222           222         0       3    8.0500      1         1\n",
       "496           496         1       1   78.2667      0         0\n",
       "\n",
       "[534 rows x 6 columns]"
      ]
     },
     "execution_count": 11,
     "metadata": {},
     "output_type": "execute_result"
    }
   ],
   "source": [
    "train"
   ]
  },
  {
   "cell_type": "code",
   "execution_count": 12,
   "id": "fd61bde8",
   "metadata": {},
   "outputs": [
    {
     "data": {
      "text/html": [
       "<div>\n",
       "<style scoped>\n",
       "    .dataframe tbody tr th:only-of-type {\n",
       "        vertical-align: middle;\n",
       "    }\n",
       "\n",
       "    .dataframe tbody tr th {\n",
       "        vertical-align: top;\n",
       "    }\n",
       "\n",
       "    .dataframe thead th {\n",
       "        text-align: right;\n",
       "    }\n",
       "</style>\n",
       "<table border=\"1\" class=\"dataframe\">\n",
       "  <thead>\n",
       "    <tr style=\"text-align: right;\">\n",
       "      <th></th>\n",
       "      <th>pclass</th>\n",
       "      <th>fare</th>\n",
       "      <th>alone</th>\n",
       "      <th>sex_male</th>\n",
       "    </tr>\n",
       "  </thead>\n",
       "  <tbody>\n",
       "    <tr>\n",
       "      <th>455</th>\n",
       "      <td>3</td>\n",
       "      <td>7.8958</td>\n",
       "      <td>1</td>\n",
       "      <td>1</td>\n",
       "    </tr>\n",
       "    <tr>\n",
       "      <th>380</th>\n",
       "      <td>1</td>\n",
       "      <td>227.5250</td>\n",
       "      <td>1</td>\n",
       "      <td>0</td>\n",
       "    </tr>\n",
       "    <tr>\n",
       "      <th>492</th>\n",
       "      <td>1</td>\n",
       "      <td>30.5000</td>\n",
       "      <td>1</td>\n",
       "      <td>1</td>\n",
       "    </tr>\n",
       "    <tr>\n",
       "      <th>55</th>\n",
       "      <td>1</td>\n",
       "      <td>35.5000</td>\n",
       "      <td>1</td>\n",
       "      <td>1</td>\n",
       "    </tr>\n",
       "    <tr>\n",
       "      <th>243</th>\n",
       "      <td>3</td>\n",
       "      <td>7.1250</td>\n",
       "      <td>1</td>\n",
       "      <td>1</td>\n",
       "    </tr>\n",
       "    <tr>\n",
       "      <th>...</th>\n",
       "      <td>...</td>\n",
       "      <td>...</td>\n",
       "      <td>...</td>\n",
       "      <td>...</td>\n",
       "    </tr>\n",
       "    <tr>\n",
       "      <th>695</th>\n",
       "      <td>2</td>\n",
       "      <td>13.5000</td>\n",
       "      <td>1</td>\n",
       "      <td>1</td>\n",
       "    </tr>\n",
       "    <tr>\n",
       "      <th>128</th>\n",
       "      <td>3</td>\n",
       "      <td>22.3583</td>\n",
       "      <td>0</td>\n",
       "      <td>0</td>\n",
       "    </tr>\n",
       "    <tr>\n",
       "      <th>636</th>\n",
       "      <td>3</td>\n",
       "      <td>7.9250</td>\n",
       "      <td>1</td>\n",
       "      <td>1</td>\n",
       "    </tr>\n",
       "    <tr>\n",
       "      <th>222</th>\n",
       "      <td>3</td>\n",
       "      <td>8.0500</td>\n",
       "      <td>1</td>\n",
       "      <td>1</td>\n",
       "    </tr>\n",
       "    <tr>\n",
       "      <th>496</th>\n",
       "      <td>1</td>\n",
       "      <td>78.2667</td>\n",
       "      <td>0</td>\n",
       "      <td>0</td>\n",
       "    </tr>\n",
       "  </tbody>\n",
       "</table>\n",
       "<p>534 rows × 4 columns</p>\n",
       "</div>"
      ],
      "text/plain": [
       "     pclass      fare  alone  sex_male\n",
       "455       3    7.8958      1         1\n",
       "380       1  227.5250      1         0\n",
       "492       1   30.5000      1         1\n",
       "55        1   35.5000      1         1\n",
       "243       3    7.1250      1         1\n",
       "..      ...       ...    ...       ...\n",
       "695       2   13.5000      1         1\n",
       "128       3   22.3583      0         0\n",
       "636       3    7.9250      1         1\n",
       "222       3    8.0500      1         1\n",
       "496       1   78.2667      0         0\n",
       "\n",
       "[534 rows x 4 columns]"
      ]
     },
     "execution_count": 12,
     "metadata": {},
     "output_type": "execute_result"
    }
   ],
   "source": [
    "X_train = train.iloc[:,2:]\n",
    "X_validate = validate.iloc[:,2:]\n",
    "X_test = test.iloc[:,2:]\n",
    "X_train"
   ]
  },
  {
   "cell_type": "code",
   "execution_count": 13,
   "id": "5d8ab35a",
   "metadata": {},
   "outputs": [],
   "source": [
    "target = 'survived'\n",
    "y_train = train[target]\n",
    "y_validate = validate[target]\n",
    "y_test = test[target]"
   ]
  },
  {
   "cell_type": "code",
   "execution_count": 14,
   "id": "c33cb203",
   "metadata": {},
   "outputs": [
    {
     "data": {
      "text/plain": [
       "0.6161048689138576"
      ]
     },
     "execution_count": 14,
     "metadata": {},
     "output_type": "execute_result"
    }
   ],
   "source": [
    "#baseline accuracy\n",
    "(y_train == 0).mean()"
   ]
  },
  {
   "cell_type": "code",
   "execution_count": 15,
   "id": "aa052e95",
   "metadata": {},
   "outputs": [
    {
     "data": {
      "text/html": [
       "<div>\n",
       "<style scoped>\n",
       "    .dataframe tbody tr th:only-of-type {\n",
       "        vertical-align: middle;\n",
       "    }\n",
       "\n",
       "    .dataframe tbody tr th {\n",
       "        vertical-align: top;\n",
       "    }\n",
       "\n",
       "    .dataframe thead th {\n",
       "        text-align: right;\n",
       "    }\n",
       "</style>\n",
       "<table border=\"1\" class=\"dataframe\">\n",
       "  <thead>\n",
       "    <tr style=\"text-align: right;\">\n",
       "      <th></th>\n",
       "      <th>pclass</th>\n",
       "      <th>fare</th>\n",
       "      <th>alone</th>\n",
       "      <th>sex_male</th>\n",
       "    </tr>\n",
       "  </thead>\n",
       "  <tbody>\n",
       "    <tr>\n",
       "      <th>455</th>\n",
       "      <td>3</td>\n",
       "      <td>7.8958</td>\n",
       "      <td>1</td>\n",
       "      <td>1</td>\n",
       "    </tr>\n",
       "    <tr>\n",
       "      <th>380</th>\n",
       "      <td>1</td>\n",
       "      <td>227.5250</td>\n",
       "      <td>1</td>\n",
       "      <td>0</td>\n",
       "    </tr>\n",
       "    <tr>\n",
       "      <th>492</th>\n",
       "      <td>1</td>\n",
       "      <td>30.5000</td>\n",
       "      <td>1</td>\n",
       "      <td>1</td>\n",
       "    </tr>\n",
       "    <tr>\n",
       "      <th>55</th>\n",
       "      <td>1</td>\n",
       "      <td>35.5000</td>\n",
       "      <td>1</td>\n",
       "      <td>1</td>\n",
       "    </tr>\n",
       "    <tr>\n",
       "      <th>243</th>\n",
       "      <td>3</td>\n",
       "      <td>7.1250</td>\n",
       "      <td>1</td>\n",
       "      <td>1</td>\n",
       "    </tr>\n",
       "    <tr>\n",
       "      <th>...</th>\n",
       "      <td>...</td>\n",
       "      <td>...</td>\n",
       "      <td>...</td>\n",
       "      <td>...</td>\n",
       "    </tr>\n",
       "    <tr>\n",
       "      <th>695</th>\n",
       "      <td>2</td>\n",
       "      <td>13.5000</td>\n",
       "      <td>1</td>\n",
       "      <td>1</td>\n",
       "    </tr>\n",
       "    <tr>\n",
       "      <th>128</th>\n",
       "      <td>3</td>\n",
       "      <td>22.3583</td>\n",
       "      <td>0</td>\n",
       "      <td>0</td>\n",
       "    </tr>\n",
       "    <tr>\n",
       "      <th>636</th>\n",
       "      <td>3</td>\n",
       "      <td>7.9250</td>\n",
       "      <td>1</td>\n",
       "      <td>1</td>\n",
       "    </tr>\n",
       "    <tr>\n",
       "      <th>222</th>\n",
       "      <td>3</td>\n",
       "      <td>8.0500</td>\n",
       "      <td>1</td>\n",
       "      <td>1</td>\n",
       "    </tr>\n",
       "    <tr>\n",
       "      <th>496</th>\n",
       "      <td>1</td>\n",
       "      <td>78.2667</td>\n",
       "      <td>0</td>\n",
       "      <td>0</td>\n",
       "    </tr>\n",
       "  </tbody>\n",
       "</table>\n",
       "<p>534 rows × 4 columns</p>\n",
       "</div>"
      ],
      "text/plain": [
       "     pclass      fare  alone  sex_male\n",
       "455       3    7.8958      1         1\n",
       "380       1  227.5250      1         0\n",
       "492       1   30.5000      1         1\n",
       "55        1   35.5000      1         1\n",
       "243       3    7.1250      1         1\n",
       "..      ...       ...    ...       ...\n",
       "695       2   13.5000      1         1\n",
       "128       3   22.3583      0         0\n",
       "636       3    7.9250      1         1\n",
       "222       3    8.0500      1         1\n",
       "496       1   78.2667      0         0\n",
       "\n",
       "[534 rows x 4 columns]"
      ]
     },
     "execution_count": 15,
     "metadata": {},
     "output_type": "execute_result"
    }
   ],
   "source": [
    "X_train"
   ]
  },
  {
   "cell_type": "markdown",
   "id": "b4436f17",
   "metadata": {},
   "source": [
    "# 1\n",
    "Fit a K-Nearest Neighbors classifier to your training sample and transform (i.e. make predictions on the training sample)\n",
    "\n"
   ]
  },
  {
   "cell_type": "code",
   "execution_count": 16,
   "id": "6f34c031",
   "metadata": {},
   "outputs": [
    {
     "data": {
      "text/plain": [
       "array([0, 1, 1, 0, 0])"
      ]
     },
     "execution_count": 16,
     "metadata": {},
     "output_type": "execute_result"
    }
   ],
   "source": [
    "#make the thing\n",
    "knn = KNeighborsClassifier(n_neighbors=5, weights='uniform')\n",
    "#fit it\n",
    "knn.fit(X_train, y_train)\n",
    "#predict\n",
    "y_pred = knn.predict(X_train)\n",
    "y_pred[:5]"
   ]
  },
  {
   "cell_type": "markdown",
   "id": "4474f4af",
   "metadata": {},
   "source": [
    "# 2\n",
    "Evaluate your results using the model score, confusion matrix, and classification report.\n",
    "\n"
   ]
  },
  {
   "cell_type": "code",
   "execution_count": 17,
   "id": "83ae8602",
   "metadata": {},
   "outputs": [
    {
     "data": {
      "text/plain": [
       "0.8127340823970037"
      ]
     },
     "execution_count": 17,
     "metadata": {},
     "output_type": "execute_result"
    }
   ],
   "source": [
    "knn.score(X_train, y_train)"
   ]
  },
  {
   "cell_type": "code",
   "execution_count": 18,
   "id": "fdba23b6",
   "metadata": {},
   "outputs": [
    {
     "data": {
      "text/plain": [
       "array([[279,  50],\n",
       "       [ 50, 155]])"
      ]
     },
     "execution_count": 18,
     "metadata": {},
     "output_type": "execute_result"
    }
   ],
   "source": [
    "conf = confusion_matrix(y_train, y_pred)\n",
    "conf"
   ]
  },
  {
   "cell_type": "code",
   "execution_count": 19,
   "id": "991adf04",
   "metadata": {},
   "outputs": [
    {
     "data": {
      "text/plain": [
       "[0, 1]"
      ]
     },
     "execution_count": 19,
     "metadata": {},
     "output_type": "execute_result"
    }
   ],
   "source": [
    "labels = sorted(y_train.unique())\n",
    "labels"
   ]
  },
  {
   "cell_type": "code",
   "execution_count": 20,
   "id": "c4a0db15",
   "metadata": {},
   "outputs": [
    {
     "data": {
      "text/html": [
       "<div>\n",
       "<style scoped>\n",
       "    .dataframe tbody tr th:only-of-type {\n",
       "        vertical-align: middle;\n",
       "    }\n",
       "\n",
       "    .dataframe tbody tr th {\n",
       "        vertical-align: top;\n",
       "    }\n",
       "\n",
       "    .dataframe thead th {\n",
       "        text-align: right;\n",
       "    }\n",
       "</style>\n",
       "<table border=\"1\" class=\"dataframe\">\n",
       "  <thead>\n",
       "    <tr style=\"text-align: right;\">\n",
       "      <th></th>\n",
       "      <th>0_predict</th>\n",
       "      <th>1_predict</th>\n",
       "    </tr>\n",
       "  </thead>\n",
       "  <tbody>\n",
       "    <tr>\n",
       "      <th>0_actual</th>\n",
       "      <td>279</td>\n",
       "      <td>50</td>\n",
       "    </tr>\n",
       "    <tr>\n",
       "      <th>1_actual</th>\n",
       "      <td>50</td>\n",
       "      <td>155</td>\n",
       "    </tr>\n",
       "  </tbody>\n",
       "</table>\n",
       "</div>"
      ],
      "text/plain": [
       "          0_predict  1_predict\n",
       "0_actual        279         50\n",
       "1_actual         50        155"
      ]
     },
     "execution_count": 20,
     "metadata": {},
     "output_type": "execute_result"
    }
   ],
   "source": [
    "pd.DataFrame(conf,\n",
    "            index=[str(label) + '_actual'for label in labels],\n",
    "            columns=[str(label) + '_predict'for label in labels])"
   ]
  },
  {
   "cell_type": "code",
   "execution_count": 21,
   "id": "e079b802",
   "metadata": {},
   "outputs": [
    {
     "name": "stdout",
     "output_type": "stream",
     "text": [
      "              precision    recall  f1-score   support\n",
      "\n",
      "           0       0.85      0.85      0.85       329\n",
      "           1       0.76      0.76      0.76       205\n",
      "\n",
      "    accuracy                           0.81       534\n",
      "   macro avg       0.80      0.80      0.80       534\n",
      "weighted avg       0.81      0.81      0.81       534\n",
      "\n"
     ]
    }
   ],
   "source": [
    "print(classification_report(y_train, y_pred))"
   ]
  },
  {
   "cell_type": "markdown",
   "id": "dce3d316",
   "metadata": {},
   "source": [
    "# 3\n",
    "Print and clearly label the following: Accuracy, true positive rate, false positive rate, true negative rate, false negative rate, precision, recall, f1-score, and support.\n",
    "\n"
   ]
  },
  {
   "cell_type": "code",
   "execution_count": 22,
   "id": "9bb605e6",
   "metadata": {},
   "outputs": [
    {
     "data": {
      "text/html": [
       "<div>\n",
       "<style scoped>\n",
       "    .dataframe tbody tr th:only-of-type {\n",
       "        vertical-align: middle;\n",
       "    }\n",
       "\n",
       "    .dataframe tbody tr th {\n",
       "        vertical-align: top;\n",
       "    }\n",
       "\n",
       "    .dataframe thead th {\n",
       "        text-align: right;\n",
       "    }\n",
       "</style>\n",
       "<table border=\"1\" class=\"dataframe\">\n",
       "  <thead>\n",
       "    <tr style=\"text-align: right;\">\n",
       "      <th></th>\n",
       "      <th>0_predict</th>\n",
       "      <th>1_predict</th>\n",
       "    </tr>\n",
       "  </thead>\n",
       "  <tbody>\n",
       "    <tr>\n",
       "      <th>0_actual</th>\n",
       "      <td>279</td>\n",
       "      <td>50</td>\n",
       "    </tr>\n",
       "    <tr>\n",
       "      <th>1_actual</th>\n",
       "      <td>50</td>\n",
       "      <td>155</td>\n",
       "    </tr>\n",
       "  </tbody>\n",
       "</table>\n",
       "</div>"
      ],
      "text/plain": [
       "          0_predict  1_predict\n",
       "0_actual        279         50\n",
       "1_actual         50        155"
      ]
     },
     "execution_count": 22,
     "metadata": {},
     "output_type": "execute_result"
    }
   ],
   "source": [
    "pd.DataFrame(conf,\n",
    "            index=[str(label) + '_actual'for label in labels],\n",
    "            columns=[str(label) + '_predict'for label in labels])"
   ]
  },
  {
   "cell_type": "code",
   "execution_count": 23,
   "id": "04b8142b",
   "metadata": {},
   "outputs": [
    {
     "name": "stdout",
     "output_type": "stream",
     "text": [
      "acc = 0.8146067415730337\n",
      "true positive rate = 0.2902621722846442\n",
      "true negative rate = 0.5243445692883895\n",
      "false positive rate = 0.09176029962546817\n",
      "false negative rate = 0.09363295880149813\n",
      "precision = 0.7598039215686274\n",
      "recall = 0.7560975609756098\n",
      "f1 score = 0.7579462102689486\n",
      "positive support = 205\n",
      "negative support = 329\n"
     ]
    }
   ],
   "source": [
    "# Survived = positive\n",
    "TP = 155\n",
    "TN = 280\n",
    "FP = 49\n",
    "FN = 50\n",
    "\n",
    "acc = (TP+TN)/(TP+TN+FP+FN)\n",
    "total = (TP+TN+FP+FN)\n",
    "true_positive_rate = TP/(total)\n",
    "false_positive_rate = FP/(total)\n",
    "true_negative_rate = TN/(total)\n",
    "false_negative_rate = FN/(total)\n",
    "precision = TP/(TP+FP)\n",
    "recall = TP/(TP+FN)\n",
    "f1_score = (2 * (precision * recall) / (precision + recall))\n",
    "support_pos = FN + TP\n",
    "support_neg = TN + FP\n",
    "\n",
    "print('acc =',acc)\n",
    "print('true positive rate =',true_positive_rate) \n",
    "print('true negative rate =', true_negative_rate)\n",
    "print('false positive rate =', false_positive_rate)\n",
    "print('false negative rate =', false_negative_rate)\n",
    "print('precision =',precision)\n",
    "print('recall =',recall)\n",
    "print('f1 score =', f1_score)\n",
    "print('positive support =', support_pos)\n",
    "print('negative support =', support_neg)"
   ]
  },
  {
   "cell_type": "markdown",
   "id": "d6f68f54",
   "metadata": {},
   "source": [
    "# 4\n",
    "Run through steps 1-3 setting k to 10\n",
    "\n"
   ]
  },
  {
   "cell_type": "code",
   "execution_count": 24,
   "id": "7cac6713",
   "metadata": {},
   "outputs": [
    {
     "data": {
      "text/plain": [
       "array([0, 1, 1, 0, 0])"
      ]
     },
     "execution_count": 24,
     "metadata": {},
     "output_type": "execute_result"
    }
   ],
   "source": [
    "#make the thing\n",
    "knn10 = KNeighborsClassifier(n_neighbors=10, weights='uniform')\n",
    "#fit it\n",
    "knn10.fit(X_train, y_train)\n",
    "#predict\n",
    "y_pred10 = knn10.predict(X_train)\n",
    "y_pred10[:5]\n",
    " "
   ]
  },
  {
   "cell_type": "code",
   "execution_count": 25,
   "id": "c6385939",
   "metadata": {},
   "outputs": [
    {
     "data": {
      "text/plain": [
       "0.7865168539325843"
      ]
     },
     "execution_count": 25,
     "metadata": {},
     "output_type": "execute_result"
    }
   ],
   "source": [
    "knn10.score(X_train, y_train)"
   ]
  },
  {
   "cell_type": "code",
   "execution_count": 26,
   "id": "79a96905",
   "metadata": {},
   "outputs": [
    {
     "data": {
      "text/plain": [
       "array([[282,  47],\n",
       "       [ 67, 138]])"
      ]
     },
     "execution_count": 26,
     "metadata": {},
     "output_type": "execute_result"
    }
   ],
   "source": [
    "conf10 = confusion_matrix(y_train, y_pred10)\n",
    "conf10"
   ]
  },
  {
   "cell_type": "code",
   "execution_count": 27,
   "id": "eaaf5302",
   "metadata": {},
   "outputs": [
    {
     "data": {
      "text/plain": [
       "[0, 1]"
      ]
     },
     "execution_count": 27,
     "metadata": {},
     "output_type": "execute_result"
    }
   ],
   "source": [
    "labels = sorted(y_train.unique())\n",
    "labels"
   ]
  },
  {
   "cell_type": "code",
   "execution_count": 28,
   "id": "11474aea",
   "metadata": {},
   "outputs": [
    {
     "data": {
      "text/html": [
       "<div>\n",
       "<style scoped>\n",
       "    .dataframe tbody tr th:only-of-type {\n",
       "        vertical-align: middle;\n",
       "    }\n",
       "\n",
       "    .dataframe tbody tr th {\n",
       "        vertical-align: top;\n",
       "    }\n",
       "\n",
       "    .dataframe thead th {\n",
       "        text-align: right;\n",
       "    }\n",
       "</style>\n",
       "<table border=\"1\" class=\"dataframe\">\n",
       "  <thead>\n",
       "    <tr style=\"text-align: right;\">\n",
       "      <th></th>\n",
       "      <th>0_predict</th>\n",
       "      <th>1_predict</th>\n",
       "    </tr>\n",
       "  </thead>\n",
       "  <tbody>\n",
       "    <tr>\n",
       "      <th>0_actual</th>\n",
       "      <td>282</td>\n",
       "      <td>47</td>\n",
       "    </tr>\n",
       "    <tr>\n",
       "      <th>1_actual</th>\n",
       "      <td>67</td>\n",
       "      <td>138</td>\n",
       "    </tr>\n",
       "  </tbody>\n",
       "</table>\n",
       "</div>"
      ],
      "text/plain": [
       "          0_predict  1_predict\n",
       "0_actual        282         47\n",
       "1_actual         67        138"
      ]
     },
     "execution_count": 28,
     "metadata": {},
     "output_type": "execute_result"
    }
   ],
   "source": [
    "pd.DataFrame(conf10,\n",
    "            index=[str(label) + '_actual'for label in labels],\n",
    "            columns=[str(label) + '_predict'for label in labels])"
   ]
  },
  {
   "cell_type": "code",
   "execution_count": 29,
   "id": "679848a3",
   "metadata": {},
   "outputs": [
    {
     "name": "stdout",
     "output_type": "stream",
     "text": [
      "acc = 0.7813084112149533\n",
      "true positive rate = 0.2467289719626168\n",
      "true negative rate = 0.5345794392523364\n",
      "false positive rate = 0.08224299065420561\n",
      "false negative rate = 0.13644859813084112\n",
      "precision = 0.75\n",
      "recall = 0.6439024390243903\n",
      "f1 score = 0.6929133858267715\n",
      "positive support = 205\n",
      "negative support = 330\n"
     ]
    }
   ],
   "source": [
    "# Survived = positive\n",
    "TP = 132\n",
    "TN = 286\n",
    "FP = 44\n",
    "FN = 73\n",
    "\n",
    "acc = (TP+TN)/(TP+TN+FP+FN)\n",
    "total = (TP+TN+FP+FN)\n",
    "true_positive_rate = TP/(total)\n",
    "false_positive_rate = FP/(total)\n",
    "true_negative_rate = TN/(total)\n",
    "false_negative_rate = FN/(total)\n",
    "precision = TP/(TP+FP)\n",
    "recall = TP/(TP+FN)\n",
    "f1_score = (2 * (precision * recall) / (precision + recall))\n",
    "support_pos = FN + TP\n",
    "support_neg = TN + FP\n",
    "\n",
    "print('acc =',acc)\n",
    "print('true positive rate =',true_positive_rate) \n",
    "print('true negative rate =', true_negative_rate)\n",
    "print('false positive rate =', false_positive_rate)\n",
    "print('false negative rate =', false_negative_rate)\n",
    "print('precision =',precision)\n",
    "print('recall =',recall)\n",
    "print('f1 score =', f1_score)\n",
    "print('positive support =', support_pos)\n",
    "print('negative support =', support_neg)"
   ]
  },
  {
   "cell_type": "code",
   "execution_count": 30,
   "id": "7d628183",
   "metadata": {},
   "outputs": [
    {
     "data": {
      "text/plain": [
       "<sklearn.metrics._plot.confusion_matrix.ConfusionMatrixDisplay at 0x7fec4b5ba3a0>"
      ]
     },
     "execution_count": 30,
     "metadata": {},
     "output_type": "execute_result"
    },
    {
     "data": {
      "image/png": "[encoded data removed]",
      "text/plain": [
       "<Figure size 640x480 with 2 Axes>"
      ]
     },
     "metadata": {},
     "output_type": "display_data"
    }
   ],
   "source": [
    "plot_confusion_matrix(knn10, X_train, y_train)"
   ]
  },
  {
   "cell_type": "code",
   "execution_count": 31,
   "id": "6a766d41",
   "metadata": {},
   "outputs": [
    {
     "name": "stdout",
     "output_type": "stream",
     "text": [
      "              precision    recall  f1-score   support\n",
      "\n",
      "           0       0.81      0.86      0.83       329\n",
      "           1       0.75      0.67      0.71       205\n",
      "\n",
      "    accuracy                           0.79       534\n",
      "   macro avg       0.78      0.77      0.77       534\n",
      "weighted avg       0.78      0.79      0.78       534\n",
      "\n"
     ]
    }
   ],
   "source": [
    "print(classification_report(y_train, y_pred10))"
   ]
  },
  {
   "cell_type": "markdown",
   "id": "b1819dc0",
   "metadata": {},
   "source": [
    "# 5\n",
    "Run through steps 1-3 setting k to 20\n",
    "\n"
   ]
  },
  {
   "cell_type": "code",
   "execution_count": 32,
   "id": "1e1fd65d",
   "metadata": {},
   "outputs": [
    {
     "data": {
      "text/plain": [
       "array([0, 1, 0, 0, 0])"
      ]
     },
     "execution_count": 32,
     "metadata": {},
     "output_type": "execute_result"
    }
   ],
   "source": [
    "#make the thing\n",
    "knn20 = KNeighborsClassifier(n_neighbors=20, weights='uniform')\n",
    "#fit it\n",
    "knn20.fit(X_train, y_train)\n",
    "#predict\n",
    "y_pred20 = knn20.predict(X_train)\n",
    "y_pred20[:5]"
   ]
  },
  {
   "cell_type": "code",
   "execution_count": 33,
   "id": "2ad34ae5",
   "metadata": {},
   "outputs": [
    {
     "data": {
      "text/plain": [
       "0.7490636704119851"
      ]
     },
     "execution_count": 33,
     "metadata": {},
     "output_type": "execute_result"
    }
   ],
   "source": [
    "knn20.score(X_train, y_train)"
   ]
  },
  {
   "cell_type": "code",
   "execution_count": 34,
   "id": "0d59b112",
   "metadata": {},
   "outputs": [
    {
     "data": {
      "text/plain": [
       "array([[279,  50],\n",
       "       [ 84, 121]])"
      ]
     },
     "execution_count": 34,
     "metadata": {},
     "output_type": "execute_result"
    }
   ],
   "source": [
    "conf20 = confusion_matrix(y_train, y_pred20)\n",
    "conf20"
   ]
  },
  {
   "cell_type": "code",
   "execution_count": 35,
   "id": "7308648c",
   "metadata": {},
   "outputs": [
    {
     "data": {
      "text/plain": [
       "[0, 1]"
      ]
     },
     "execution_count": 35,
     "metadata": {},
     "output_type": "execute_result"
    }
   ],
   "source": [
    "labels = sorted(y_train.unique())\n",
    "labels"
   ]
  },
  {
   "cell_type": "code",
   "execution_count": 36,
   "id": "f4bed109",
   "metadata": {},
   "outputs": [
    {
     "data": {
      "text/html": [
       "<div>\n",
       "<style scoped>\n",
       "    .dataframe tbody tr th:only-of-type {\n",
       "        vertical-align: middle;\n",
       "    }\n",
       "\n",
       "    .dataframe tbody tr th {\n",
       "        vertical-align: top;\n",
       "    }\n",
       "\n",
       "    .dataframe thead th {\n",
       "        text-align: right;\n",
       "    }\n",
       "</style>\n",
       "<table border=\"1\" class=\"dataframe\">\n",
       "  <thead>\n",
       "    <tr style=\"text-align: right;\">\n",
       "      <th></th>\n",
       "      <th>0_predict</th>\n",
       "      <th>1_predict</th>\n",
       "    </tr>\n",
       "  </thead>\n",
       "  <tbody>\n",
       "    <tr>\n",
       "      <th>0_actual</th>\n",
       "      <td>279</td>\n",
       "      <td>50</td>\n",
       "    </tr>\n",
       "    <tr>\n",
       "      <th>1_actual</th>\n",
       "      <td>84</td>\n",
       "      <td>121</td>\n",
       "    </tr>\n",
       "  </tbody>\n",
       "</table>\n",
       "</div>"
      ],
      "text/plain": [
       "          0_predict  1_predict\n",
       "0_actual        279         50\n",
       "1_actual         84        121"
      ]
     },
     "execution_count": 36,
     "metadata": {},
     "output_type": "execute_result"
    }
   ],
   "source": [
    "pd.DataFrame(conf20,\n",
    "            index=[str(label) + '_actual'for label in labels],\n",
    "            columns=[str(label) + '_predict'for label in labels])"
   ]
  },
  {
   "cell_type": "code",
   "execution_count": 37,
   "id": "de5b005d",
   "metadata": {},
   "outputs": [
    {
     "name": "stdout",
     "output_type": "stream",
     "text": [
      "acc = 0.7434456928838952\n",
      "true positive rate = 0.20599250936329588\n",
      "true negative rate = 0.5374531835205992\n",
      "false positive rate = 0.07865168539325842\n",
      "false negative rate = 0.17790262172284643\n",
      "precision = 0.7236842105263158\n",
      "recall = 0.5365853658536586\n",
      "f1 score = 0.6162464985994398\n",
      "positive support = 205\n",
      "negative support = 329\n"
     ]
    }
   ],
   "source": [
    "# Survived = positive\n",
    "TP = 110\n",
    "TN = 287\n",
    "FP = 42\n",
    "FN = 95\n",
    "\n",
    "acc = (TP+TN)/(TP+TN+FP+FN)\n",
    "total = (TP+TN+FP+FN)\n",
    "true_positive_rate = TP/(total)\n",
    "false_positive_rate = FP/(total)\n",
    "true_negative_rate = TN/(total)\n",
    "false_negative_rate = FN/(total)\n",
    "precision = TP/(TP+FP)\n",
    "recall = TP/(TP+FN)\n",
    "f1_score = (2 * (precision * recall) / (precision + recall))\n",
    "support_pos = FN + TP\n",
    "support_neg = TN + FP\n",
    "\n",
    "print('acc =',acc)\n",
    "print('true positive rate =',true_positive_rate) \n",
    "print('true negative rate =', true_negative_rate)\n",
    "print('false positive rate =', false_positive_rate)\n",
    "print('false negative rate =', false_negative_rate)\n",
    "print('precision =',precision)\n",
    "print('recall =',recall)\n",
    "print('f1 score =', f1_score)\n",
    "print('positive support =', support_pos)\n",
    "print('negative support =', support_neg)"
   ]
  },
  {
   "cell_type": "code",
   "execution_count": 38,
   "id": "fc1488d5",
   "metadata": {},
   "outputs": [
    {
     "data": {
      "text/plain": [
       "<sklearn.metrics._plot.confusion_matrix.ConfusionMatrixDisplay at 0x7fec4f349a90>"
      ]
     },
     "execution_count": 38,
     "metadata": {},
     "output_type": "execute_result"
    },
    {
     "data": {
      "image/png": "[encoded data removed]",
      "text/plain": [
       "<Figure size 640x480 with 2 Axes>"
      ]
     },
     "metadata": {},
     "output_type": "display_data"
    }
   ],
   "source": [
    "plot_confusion_matrix(knn20, X_train, y_train)"
   ]
  },
  {
   "cell_type": "code",
   "execution_count": 39,
   "id": "2dd7f530",
   "metadata": {},
   "outputs": [
    {
     "name": "stdout",
     "output_type": "stream",
     "text": [
      "              precision    recall  f1-score   support\n",
      "\n",
      "           0       0.77      0.85      0.81       329\n",
      "           1       0.71      0.59      0.64       205\n",
      "\n",
      "    accuracy                           0.75       534\n",
      "   macro avg       0.74      0.72      0.72       534\n",
      "weighted avg       0.75      0.75      0.74       534\n",
      "\n"
     ]
    }
   ],
   "source": [
    "print(classification_report(y_train, y_pred20))"
   ]
  },
  {
   "cell_type": "markdown",
   "id": "a6af43cf",
   "metadata": {},
   "source": [
    "# 6\n",
    "What are the differences in the evaluation metrics? Which performs better on your in-sample data? Why?\n"
   ]
  },
  {
   "cell_type": "markdown",
   "id": "9b616cd8",
   "metadata": {},
   "source": [
    "- knn 10 is better than knn 20because it predicted less false positives, and more true positives."
   ]
  },
  {
   "cell_type": "markdown",
   "id": "2a625ae3",
   "metadata": {},
   "source": [
    "# 7\n",
    "Which model performs best on our out-of-sample data from validate?"
   ]
  },
  {
   "cell_type": "markdown",
   "id": "1d6245ef",
   "metadata": {},
   "source": [
    "## Analyze knn10"
   ]
  },
  {
   "cell_type": "code",
   "execution_count": 40,
   "id": "d7fe1b90",
   "metadata": {},
   "outputs": [
    {
     "data": {
      "text/plain": [
       "0.7865168539325843"
      ]
     },
     "execution_count": 40,
     "metadata": {},
     "output_type": "execute_result"
    }
   ],
   "source": [
    "knn10.score(X_train, y_train)"
   ]
  },
  {
   "cell_type": "code",
   "execution_count": 41,
   "id": "03c3f1d5",
   "metadata": {},
   "outputs": [
    {
     "data": {
      "text/plain": [
       "0.7303370786516854"
      ]
     },
     "execution_count": 41,
     "metadata": {},
     "output_type": "execute_result"
    }
   ],
   "source": [
    "knn10.score(X_validate, y_validate)"
   ]
  },
  {
   "cell_type": "code",
   "execution_count": 42,
   "id": "050ce528",
   "metadata": {
    "scrolled": true
   },
   "outputs": [
    {
     "data": {
      "text/plain": [
       "0.0561797752808989"
      ]
     },
     "execution_count": 42,
     "metadata": {},
     "output_type": "execute_result"
    }
   ],
   "source": [
    "(knn10.score(X_train, y_train))-(knn10.score(X_validate, y_validate))"
   ]
  },
  {
   "cell_type": "markdown",
   "id": "6dfe69e5",
   "metadata": {},
   "source": [
    "## Analyze knn20"
   ]
  },
  {
   "cell_type": "code",
   "execution_count": 43,
   "id": "04f4dd0c",
   "metadata": {},
   "outputs": [
    {
     "data": {
      "text/plain": [
       "0.7490636704119851"
      ]
     },
     "execution_count": 43,
     "metadata": {},
     "output_type": "execute_result"
    }
   ],
   "source": [
    "knn20.score(X_train, y_train)"
   ]
  },
  {
   "cell_type": "code",
   "execution_count": 44,
   "id": "c6fb79d6",
   "metadata": {},
   "outputs": [
    {
     "data": {
      "text/plain": [
       "0.702247191011236"
      ]
     },
     "execution_count": 44,
     "metadata": {},
     "output_type": "execute_result"
    }
   ],
   "source": [
    "knn20.score(X_validate,y_validate)"
   ]
  },
  {
   "cell_type": "code",
   "execution_count": 45,
   "id": "650e074d",
   "metadata": {},
   "outputs": [
    {
     "data": {
      "text/plain": [
       "0.04681647940074907"
      ]
     },
     "execution_count": 45,
     "metadata": {},
     "output_type": "execute_result"
    }
   ],
   "source": [
    "(knn20.score(X_train, y_train))-(knn20.score(X_validate, y_validate))"
   ]
  },
  {
   "cell_type": "markdown",
   "id": "285c654f",
   "metadata": {},
   "source": [
    "## Result of analysis\n",
    "- knn10 has higher accuracy with the less difference between train and validate sets. knn10 is the better model out of these two."
   ]
  },
  {
   "cell_type": "markdown",
   "id": "85074822",
   "metadata": {},
   "source": [
    "# for fun"
   ]
  },
  {
   "cell_type": "code",
   "execution_count": 49,
   "id": "a4e7e6f0",
   "metadata": {},
   "outputs": [
    {
     "data": {
      "image/png": "[encoded data removed]",
      "text/plain": [
       "<Figure size 1600x900 with 1 Axes>"
      ]
     },
     "metadata": {},
     "output_type": "display_data"
    },
    {
     "data": {
      "text/html": [
       "<div>\n",
       "<style scoped>\n",
       "    .dataframe tbody tr th:only-of-type {\n",
       "        vertical-align: middle;\n",
       "    }\n",
       "\n",
       "    .dataframe tbody tr th {\n",
       "        vertical-align: top;\n",
       "    }\n",
       "\n",
       "    .dataframe thead th {\n",
       "        text-align: right;\n",
       "    }\n",
       "</style>\n",
       "<table border=\"1\" class=\"dataframe\">\n",
       "  <thead>\n",
       "    <tr style=\"text-align: right;\">\n",
       "      <th></th>\n",
       "      <th>k</th>\n",
       "      <th>train_score</th>\n",
       "      <th>validate_score</th>\n",
       "      <th>diff_score</th>\n",
       "    </tr>\n",
       "  </thead>\n",
       "  <tbody>\n",
       "    <tr>\n",
       "      <th>0</th>\n",
       "      <td>1</td>\n",
       "      <td>0.878277</td>\n",
       "      <td>0.707865</td>\n",
       "      <td>0.170412</td>\n",
       "    </tr>\n",
       "    <tr>\n",
       "      <th>1</th>\n",
       "      <td>2</td>\n",
       "      <td>0.874532</td>\n",
       "      <td>0.735955</td>\n",
       "      <td>0.138577</td>\n",
       "    </tr>\n",
       "    <tr>\n",
       "      <th>2</th>\n",
       "      <td>3</td>\n",
       "      <td>0.868914</td>\n",
       "      <td>0.764045</td>\n",
       "      <td>0.104869</td>\n",
       "    </tr>\n",
       "    <tr>\n",
       "      <th>3</th>\n",
       "      <td>4</td>\n",
       "      <td>0.842697</td>\n",
       "      <td>0.769663</td>\n",
       "      <td>0.073034</td>\n",
       "    </tr>\n",
       "    <tr>\n",
       "      <th>4</th>\n",
       "      <td>5</td>\n",
       "      <td>0.812734</td>\n",
       "      <td>0.769663</td>\n",
       "      <td>0.043071</td>\n",
       "    </tr>\n",
       "    <tr>\n",
       "      <th>5</th>\n",
       "      <td>6</td>\n",
       "      <td>0.805243</td>\n",
       "      <td>0.752809</td>\n",
       "      <td>0.052434</td>\n",
       "    </tr>\n",
       "    <tr>\n",
       "      <th>6</th>\n",
       "      <td>7</td>\n",
       "      <td>0.797753</td>\n",
       "      <td>0.764045</td>\n",
       "      <td>0.033708</td>\n",
       "    </tr>\n",
       "    <tr>\n",
       "      <th>7</th>\n",
       "      <td>8</td>\n",
       "      <td>0.794007</td>\n",
       "      <td>0.741573</td>\n",
       "      <td>0.052434</td>\n",
       "    </tr>\n",
       "    <tr>\n",
       "      <th>8</th>\n",
       "      <td>9</td>\n",
       "      <td>0.794007</td>\n",
       "      <td>0.735955</td>\n",
       "      <td>0.058052</td>\n",
       "    </tr>\n",
       "    <tr>\n",
       "      <th>9</th>\n",
       "      <td>10</td>\n",
       "      <td>0.786517</td>\n",
       "      <td>0.730337</td>\n",
       "      <td>0.056180</td>\n",
       "    </tr>\n",
       "    <tr>\n",
       "      <th>10</th>\n",
       "      <td>11</td>\n",
       "      <td>0.782772</td>\n",
       "      <td>0.735955</td>\n",
       "      <td>0.046816</td>\n",
       "    </tr>\n",
       "    <tr>\n",
       "      <th>11</th>\n",
       "      <td>12</td>\n",
       "      <td>0.780899</td>\n",
       "      <td>0.719101</td>\n",
       "      <td>0.061798</td>\n",
       "    </tr>\n",
       "    <tr>\n",
       "      <th>12</th>\n",
       "      <td>13</td>\n",
       "      <td>0.788390</td>\n",
       "      <td>0.724719</td>\n",
       "      <td>0.063670</td>\n",
       "    </tr>\n",
       "    <tr>\n",
       "      <th>13</th>\n",
       "      <td>14</td>\n",
       "      <td>0.784644</td>\n",
       "      <td>0.724719</td>\n",
       "      <td>0.059925</td>\n",
       "    </tr>\n",
       "    <tr>\n",
       "      <th>14</th>\n",
       "      <td>15</td>\n",
       "      <td>0.777154</td>\n",
       "      <td>0.713483</td>\n",
       "      <td>0.063670</td>\n",
       "    </tr>\n",
       "    <tr>\n",
       "      <th>15</th>\n",
       "      <td>16</td>\n",
       "      <td>0.760300</td>\n",
       "      <td>0.707865</td>\n",
       "      <td>0.052434</td>\n",
       "    </tr>\n",
       "    <tr>\n",
       "      <th>16</th>\n",
       "      <td>17</td>\n",
       "      <td>0.765918</td>\n",
       "      <td>0.696629</td>\n",
       "      <td>0.069288</td>\n",
       "    </tr>\n",
       "    <tr>\n",
       "      <th>17</th>\n",
       "      <td>18</td>\n",
       "      <td>0.762172</td>\n",
       "      <td>0.702247</td>\n",
       "      <td>0.059925</td>\n",
       "    </tr>\n",
       "    <tr>\n",
       "      <th>18</th>\n",
       "      <td>19</td>\n",
       "      <td>0.749064</td>\n",
       "      <td>0.679775</td>\n",
       "      <td>0.069288</td>\n",
       "    </tr>\n",
       "    <tr>\n",
       "      <th>19</th>\n",
       "      <td>20</td>\n",
       "      <td>0.749064</td>\n",
       "      <td>0.702247</td>\n",
       "      <td>0.046816</td>\n",
       "    </tr>\n",
       "  </tbody>\n",
       "</table>\n",
       "</div>"
      ],
      "text/plain": [
       "     k  train_score  validate_score  diff_score\n",
       "0    1     0.878277        0.707865    0.170412\n",
       "1    2     0.874532        0.735955    0.138577\n",
       "2    3     0.868914        0.764045    0.104869\n",
       "3    4     0.842697        0.769663    0.073034\n",
       "4    5     0.812734        0.769663    0.043071\n",
       "5    6     0.805243        0.752809    0.052434\n",
       "6    7     0.797753        0.764045    0.033708\n",
       "7    8     0.794007        0.741573    0.052434\n",
       "8    9     0.794007        0.735955    0.058052\n",
       "9   10     0.786517        0.730337    0.056180\n",
       "10  11     0.782772        0.735955    0.046816\n",
       "11  12     0.780899        0.719101    0.061798\n",
       "12  13     0.788390        0.724719    0.063670\n",
       "13  14     0.784644        0.724719    0.059925\n",
       "14  15     0.777154        0.713483    0.063670\n",
       "15  16     0.760300        0.707865    0.052434\n",
       "16  17     0.765918        0.696629    0.069288\n",
       "17  18     0.762172        0.702247    0.059925\n",
       "18  19     0.749064        0.679775    0.069288\n",
       "19  20     0.749064        0.702247    0.046816"
      ]
     },
     "execution_count": 49,
     "metadata": {},
     "output_type": "execute_result"
    }
   ],
   "source": [
    "knear.k_nearest2(X_train, y_train, X_validate, y_validate)"
   ]
  },
  {
   "cell_type": "code",
   "execution_count": null,
   "id": "fd4ae9b4",
   "metadata": {},
   "outputs": [],
   "source": []
  },
  {
   "cell_type": "code",
   "execution_count": null,
   "id": "77eb7954",
   "metadata": {},
   "outputs": [],
   "source": []
  },
  {
   "cell_type": "code",
   "execution_count": null,
   "id": "6385e7a0",
   "metadata": {},
   "outputs": [],
   "source": []
  }
 ],
 "metadata": {
  "kernelspec": {
   "display_name": "Python 3 (ipykernel)",
   "language": "python",
   "name": "python3"
  },
  "language_info": {
   "codemirror_mode": {
    "name": "ipython",
    "version": 3
   },
   "file_extension": ".py",
   "mimetype": "text/x-python",
   "name": "python",
   "nbconvert_exporter": "python",
   "pygments_lexer": "ipython3",
   "version": "3.9.13"
  }
 },
 "nbformat": 4,
 "nbformat_minor": 5
}
